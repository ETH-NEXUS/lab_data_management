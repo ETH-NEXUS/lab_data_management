{
 "cells": [
  {
   "cell_type": "code",
   "execution_count": 1,
   "id": "f5c71113",
   "metadata": {
    "kernel": "SoS"
   },
   "outputs": [
    {
     "name": "stdout",
     "output_type": "stream",
     "text": [
      "Processing plate BAF210901_9\n",
      "Processing plate BAF210901_8\n",
      "Processing plate BAF210901_7\n",
      "Processing plate BAF210901_6\n",
      "Processing plate BAF210901_5\n",
      "Processing plate BAF210901_4\n",
      "Processing plate BAF210901_3\n",
      "Processing plate BAF210901_25\n",
      "Processing plate BAF210901_24\n",
      "Processing plate BAF210901_23\n",
      "Processing plate BAF210901_22\n",
      "Processing plate BAF210901_21\n",
      "Processing plate BAF210901_20\n",
      "Processing plate BAF210901_2\n",
      "Processing plate BAF210901_19\n",
      "Processing plate BAF210901_18\n",
      "Processing plate BAF210901_17\n",
      "Processing plate BAF210901_16\n",
      "Processing plate BAF210901_15\n",
      "Processing plate BAF210901_14\n",
      "Processing plate BAF210901_13\n",
      "Processing plate BAF210901_12\n",
      "Processing plate BAF210901_11\n",
      "Processing plate BAF210901_10\n",
      "Processing plate BAF210901_1\n",
      "\n",
      "Found 9600 measurements\n"
     ]
    }
   ],
   "source": [
    "from ldm import ldm\n",
    "\n",
    "raw_data = ldm.get_experiment_measurements('exp2', label='Label1')\n",
    "norm_data = ldm.normalize_values(raw_data)\n",
    "norm_data_log = ldm.normalize_values(raw_data, log_value=True)"
   ]
  },
  {
   "cell_type": "code",
   "execution_count": 2,
   "id": "79a10604",
   "metadata": {
    "kernel": "SoS"
   },
   "outputs": [],
   "source": [
    "z_prime = ldm.calculate_z_prime(raw_data)\n",
    "z_prime_log = ldm.calculate_z_prime(raw_data, log_value=True)"
   ]
  },
  {
   "cell_type": "code",
   "execution_count": 3,
   "id": "f18b2623",
   "metadata": {
    "kernel": "R"
   },
   "outputs": [],
   "source": [
    "%get raw_data\n",
    "%get norm_data\n",
    "%get norm_data_log\n",
    "%get z_prime\n",
    "%get z_prime_log"
   ]
  },
  {
   "cell_type": "code",
   "execution_count": null,
   "id": "3461aa28",
   "metadata": {
    "kernel": "R"
   },
   "outputs": [],
   "source": [
    "norm_data$compound"
   ]
  },
  {
   "cell_type": "code",
   "execution_count": 4,
   "id": "78e206dc",
   "metadata": {
    "kernel": "R"
   },
   "outputs": [
    {
     "name": "stderr",
     "output_type": "stream",
     "text": [
      "\n",
      "Attaching package: ‘dplyr’\n",
      "\n",
      "\n",
      "The following objects are masked from ‘package:stats’:\n",
      "\n",
      "    filter, lag\n",
      "\n",
      "\n",
      "The following objects are masked from ‘package:base’:\n",
      "\n",
      "    intersect, setdiff, setequal, union\n",
      "\n",
      "\n"
     ]
    },
    {
     "ename": "ERROR",
     "evalue": "Error in library(car): there is no package called ‘car’\n",
     "output_type": "error",
     "traceback": [
      "Error in library(car): there is no package called ‘car’\nTraceback:\n",
      "1. library(car)"
     ]
    }
   ],
   "source": [
    "library(captioner)\n",
    "library(RColorBrewer)\n",
    "library(lawstat)\n",
    "library(ggplot2)\n",
    "library(dplyr)\n",
    "library(bioassays)\n",
    "\n",
    "library(car)\n",
    "library(ggpubr)\n"
   ]
  },
  {
   "cell_type": "code",
   "execution_count": null,
   "id": "4180b1f8",
   "metadata": {
    "kernel": "R"
   },
   "outputs": [],
   "source": [
    "type.pal = brewer.pal(9,\"Set1\")\n",
    "type.pal = c(type.pal[2:1], \"black\", type.pal[3:9], brewer.pal(8,\"Dark2\"))\n",
    "\n",
    "num_to_letter = function(number, base = 26, suffix = \"\") {\n",
    "   number1 = number - 1\n",
    "   last_digit = number1 %% base\n",
    "   rest = number1 %/% base\n",
    "   suffix = paste0(LETTERS[last_digit + 1], suffix)\n",
    "   if (rest > 0) Recall(rest, base, suffix) else suffix\n",
    "}\n",
    "\n",
    "\n",
    "create_heatmap_plate = function(data, plate_barcode, size) {\n",
    "    \n",
    "    plate = data %>%  \n",
    "    mutate(row = sapply(raw_data$plate_row, num_to_letter), col = raw_data$plate_column) %>% \n",
    "    filter(plate == plate_barcode) %>% \n",
    "    select(row, col, value)\n",
    "    \n",
    "    matrix = matrix96(plate, 'value', rm = 'TRUE')\n",
    "    p = heatplate(matrix, plate_barcode, size=size)\n",
    "    return(p)\n",
    "    \n",
    "}\n",
    "\n",
    "create_histogram_plot <- function(data, x_var, fill_range, title, x_label=\"\") {\n",
    "      p = ggplot(data, aes(x = !!rlang::sym(x_var))) +\n",
    "        geom_histogram(aes(fill = after_stat(count)), col = 'black', alpha = .4) +\n",
    "        scale_fill_gradient(\"Count\", low = fill_range[1], high = fill_range[2]) +\n",
    "        ggtitle(title) +\n",
    "        labs(x = x_label, y = \"Count\") +\n",
    "        theme_bw() +\n",
    "        theme(plot.title = element_text(hjust = 0.5)) \n",
    "        return(p)\n",
    "}\n",
    "\n",
    "create_controls_plot = function(data, x_var, y_var, group_var, color_var, title=\"\", y_label=\"\") {\n",
    "    \n",
    "    p = ggplot(data, aes(x = !!rlang::sym(x_var),\n",
    "                         y = !!rlang::sym(y_var),\n",
    "                         group = !!rlang::sym(group_var), \n",
    "                         color = !!rlang::sym(color_var))) +\n",
    "                      geom_jitter(width=0.2) + \n",
    "                      ylab(y_label) + \n",
    "                      xlab(\"\") +\n",
    "                      scale_color_manual(name=\"\", values = type.pal, drop=F) +\n",
    "                      guides(color = guide_legend(ncol=1, byrow = T)) +\n",
    "                      theme(strip.text = element_text(size=10),\n",
    "                            axis.text.x = element_text(angle = 90, hjust = 1, vjust = 0.5, size=rel(0.99)),\n",
    "                            legend.position = \"right\", legend.title=element_text(size=rel(0.8)),\n",
    "                            legend.text = element_text(size=rel(0.8)))\n",
    "        \n",
    "        \n",
    "    return(p)\n",
    "}\n",
    "\n"
   ]
  },
  {
   "cell_type": "markdown",
   "id": "e010af0c",
   "metadata": {
    "kernel": "R"
   },
   "source": [
    "# Plate Heatmap\n",
    "\n",
    "Plate heatmap of all raw luminescence values in a colour scale from green (low viability) to red (high viability) (figure 1)."
   ]
  },
  {
   "cell_type": "code",
   "execution_count": null,
   "id": "27eec2f8",
   "metadata": {
    "kernel": "R"
   },
   "outputs": [],
   "source": [
    "#p = heatplate(matrix, \"Plate BAF210901_1\", size=5)\n",
    "heatmap = create_heatmap_plate(raw_data, 'BAF210901_1', size=5)\n",
    "heatmap"
   ]
  },
  {
   "cell_type": "markdown",
   "id": "9e12e0d3",
   "metadata": {
    "kernel": "R"
   },
   "source": [
    "# Data Distribution\n",
    "\n",
    "Histograms of raw- and NPI-normalized data for each plate (figure 2).\n"
   ]
  },
  {
   "cell_type": "code",
   "execution_count": null,
   "id": "80cf3792",
   "metadata": {
    "kernel": "R"
   },
   "outputs": [],
   "source": [
    "# make plots wider \n",
    "options(repr.plot.width=15, repr.plot.height=8)"
   ]
  },
  {
   "cell_type": "code",
   "execution_count": null,
   "id": "2b745de1",
   "metadata": {
    "kernel": "R"
   },
   "outputs": [],
   "source": [
    "\n",
    "hist_raw = create_histogram_plot(data = norm_data, \"value\",  c(\"green\", \"red\"),\"Raw data\", \"log10(Measured value)\")\n",
    "\n",
    "hist_raw = hist_raw + facet_wrap(~plate, ncol=8, scales=\"free\")\n",
    "hist_raw\n",
    "\n",
    "hist_norm = create_histogram_plot(data = norm_data,\"norm\", c(\"green\", \"red\"), \"Normalized data\", \"Normalized value\")\n",
    "\n",
    "hist_norm = hist_norm + facet_wrap(~plate, ncol=8, scales=\"free\")\n",
    "hist_norm\n"
   ]
  },
  {
   "cell_type": "markdown",
   "id": "79f238de",
   "metadata": {
    "kernel": "R"
   },
   "source": [
    "# Controls\n",
    "Controlplot before- and after robust normalization (median and MAD) (figure 3).\n"
   ]
  },
  {
   "cell_type": "code",
   "execution_count": null,
   "id": "04e36717",
   "metadata": {
    "kernel": "R"
   },
   "outputs": [],
   "source": [
    "4 + 3"
   ]
  },
  {
   "cell_type": "code",
   "execution_count": null,
   "id": "5abbf2b6",
   "metadata": {
    "kernel": "R"
   },
   "outputs": [],
   "source": [
    "condat = droplevels(subset(norm_data, norm_data$control != 'C' & norm_data$control != 'empty'))\n",
    "condat$compound\n",
    "\n",
    "controls_raw = create_controls_plot(condat, 'plate', 'value', 'control', 'compound', \"\", \"Measured Value\")\n",
    "controls_raw\n",
    "\n",
    "controls_norm = create_controls_plot(condat, 'plate', 'norm', 'control', 'compound', \"\", \"Normalized Value\")\n",
    "controls_norm\n",
    "\n",
    "# controls_raw = ggplot(condat, aes(x=plate, y=value, group=control, color=compound)) +\n",
    "#   geom_jitter(width=0.2) + \n",
    "#   ylab(\"log10(Measured Value)\") + \n",
    "#   xlab(\"\") +\n",
    "#   scale_color_manual(name=\"\", values=type.pal, drop=F) +\n",
    "#   guides(color=guide_legend(ncol=1,byrow=T)) +\n",
    "#   theme(strip.text = element_text(size=10),\n",
    "#         axis.text.x = element_text(angle = 90, hjust = 1, vjust = 0.5, size=rel(0.99)),\n",
    "#         legend.position=\"right\", legend.title=element_text(size=rel(0.8)),\n",
    "#         legend.text=element_text(size=rel(0.8)))\n",
    "# controls_raw"
   ]
  },
  {
   "cell_type": "code",
   "execution_count": null,
   "id": "4d98e93e",
   "metadata": {
    "kernel": "R"
   },
   "outputs": [],
   "source": []
  }
 ],
 "metadata": {
  "kernelspec": {
   "display_name": "SoS",
   "language": "sos",
   "name": "sos"
  },
  "language_info": {
   "codemirror_mode": "sos",
   "file_extension": ".sos",
   "mimetype": "text/x-sos",
   "name": "sos",
   "nbconvert_exporter": "sos_notebook.converter.SoS_Exporter",
   "pygments_lexer": "sos"
  },
  "sos": {
   "kernels": [
    [
     "R",
     "ir",
     "R",
     "#DCDCDA",
     ""
    ],
    [
     "SoS",
     "sos",
     "",
     "",
     "sos"
    ]
   ],
   "panel": {
    "displayed": true,
    "height": 0
   },
   "version": "0.24.1"
  }
 },
 "nbformat": 4,
 "nbformat_minor": 5
}

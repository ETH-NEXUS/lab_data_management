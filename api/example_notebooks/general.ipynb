{
 "cells": [
  {
   "cell_type": "code",
   "execution_count": 1,
   "id": "0b1aade5-368c-4141-97f4-d720b6eeaca1",
   "metadata": {
    "editable": true,
    "slideshow": {
     "slide_type": ""
    },
    "tags": [
     "parameters"
    ]
   },
   "outputs": [],
   "source": [
    "# Intitialization block\n",
    "experiment = 'Screen_220823'\n",
    "label = 'Label1'"
   ]
  },
  {
   "cell_type": "raw",
   "id": "99aa8cef-4499-4ccf-8536-ca8de0343962",
   "metadata": {
    "editable": true,
    "raw_mimetype": "",
    "slideshow": {
     "slide_type": ""
    },
    "tags": []
   },
   "source": [
    "---\n",
    "title: \"Quality Report\"\n",
    "format: \n",
    "  pdf:\n",
    "    papersize: A4\n",
    "    toc: true\n",
    "    number-sections: true\n",
    "    colorlinks: true\n",
    "    highlight-style: github\n",
    "    include-in-header: \n",
    "      text: |\n",
    "        \\usepackage{fancyhdr}\n",
    "        \\pagestyle{fancy}\n",
    "        \\renewcommand{\\footrulewidth}{0.4pt}\n",
    "        \\fancyhead{}\n",
    "        \\fancyhead[RO,LE]{\\textbf{Quality Report}}\n",
    "        \\fancyfoot{}\n",
    "        \\fancyfoot[LE,RO]{\\thepage}\n",
    "        \\fancyfoot[LO,CE]{\\today}\n",
    "        \\fancyfoot[CO,RE]{NEXUS Personalizen Health Technologies}\n",
    "---"
   ]
  },
  {
   "cell_type": "code",
   "execution_count": 2,
   "id": "9b547666-fef8-436b-ab12-296372096a69",
   "metadata": {
    "editable": true,
    "slideshow": {
     "slide_type": ""
    },
    "tags": []
   },
   "outputs": [
    {
     "name": "stdout",
     "output_type": "stream",
     "text": [
      "Getting measurements for experiment Screen_220823\n",
      "Processing plate 3_PM023_9\n",
      "Processing plate 3_PM023_1\n",
      "Processing plate 3_PM023_5\n",
      "Processing plate 3_PM023_8\n",
      "Processing plate 3_PM023_2\n",
      "Processing plate 3_PM023_3\n",
      "Processing plate 3_PM023_7\n",
      "Processing plate 3_PM023_4\n",
      "\n",
      "Found 3072 measurements\n",
      "     well_coordinate     value      plate  plate_row  plate_column control  \\\n",
      "0                N19  101570.0  3_PM023_9         14            19       C   \n",
      "1                A10   82268.0  3_PM023_9          1            10       C   \n",
      "2                A11   43843.0  3_PM023_9          1            11       C   \n",
      "3                A12   77140.0  3_PM023_9          1            12       C   \n",
      "4                A13   30785.0  3_PM023_9          1            13       C   \n",
      "...              ...       ...        ...        ...           ...     ...   \n",
      "3067             O24  100710.0  3_PM023_4         15            24       C   \n",
      "3068              P1   94365.0  3_PM023_4         16             1       N   \n",
      "3069              P2  109580.0  3_PM023_4         16             2       N   \n",
      "3070             P23   94895.0  3_PM023_4         16            23       C   \n",
      "3071             P24  103120.0  3_PM023_4         16            24       C   \n",
      "\n",
      "     measurement               compound  \n",
      "0         Label1  Palmitoylethanolamide  \n",
      "1         Label1                Fisetin  \n",
      "2         Label1       SNS-314 Mesylate  \n",
      "3         Label1      Indole-3-carbinol  \n",
      "4         Label1                BIIB021  \n",
      "...          ...                    ...  \n",
      "3067      Label1                   None  \n",
      "3068      Label1                   DMSO  \n",
      "3069      Label1                   DMSO  \n",
      "3070      Label1                   None  \n",
      "3071      Label1                   None  \n",
      "\n",
      "[3072 rows x 8 columns]\n",
      "     well_coordinate     value      plate  plate_row  plate_column control  \\\n",
      "0                N19  101570.0  3_PM023_9         14            19       C   \n",
      "1                A10   82268.0  3_PM023_9          1            10       C   \n",
      "2                A11   43843.0  3_PM023_9          1            11       C   \n",
      "3                A12   77140.0  3_PM023_9          1            12       C   \n",
      "4                A13   30785.0  3_PM023_9          1            13       C   \n",
      "...              ...       ...        ...        ...           ...     ...   \n",
      "3067             O24  100710.0  3_PM023_4         15            24       C   \n",
      "3068              P1   94365.0  3_PM023_4         16             1       N   \n",
      "3069              P2  109580.0  3_PM023_4         16             2       N   \n",
      "3070             P23   94895.0  3_PM023_4         16            23       C   \n",
      "3071             P24  103120.0  3_PM023_4         16            24       C   \n",
      "\n",
      "     measurement               compound  \n",
      "0         Label1  Palmitoylethanolamide  \n",
      "1         Label1                Fisetin  \n",
      "2         Label1       SNS-314 Mesylate  \n",
      "3         Label1      Indole-3-carbinol  \n",
      "4         Label1                BIIB021  \n",
      "...          ...                    ...  \n",
      "3067      Label1                   None  \n",
      "3068      Label1                   DMSO  \n",
      "3069      Label1                   DMSO  \n",
      "3070      Label1                   None  \n",
      "3071      Label1                   None  \n",
      "\n",
      "[3072 rows x 8 columns]\n"
     ]
    }
   ],
   "source": [
    "# NB: please make supe to apply a template to experiment plates in the ui before running this code\n",
    "\n",
    "from ldm import ldm\n",
    "\n",
    "raw_data = ldm.get_experiment_measurements(experiment, label=label)\n",
    "\n",
    "norm_data = ldm.normalize_values(raw_data)\n",
    "norm_data_log = ldm.normalize_values(raw_data, log_value=True)"
   ]
  },
  {
   "cell_type": "code",
   "execution_count": 3,
   "id": "ab036bcb-45c6-4f81-89c7-862f4f31d68d",
   "metadata": {},
   "outputs": [
    {
     "data": {
      "text/html": [
       "<div>\n",
       "<style scoped>\n",
       "    .dataframe tbody tr th:only-of-type {\n",
       "        vertical-align: middle;\n",
       "    }\n",
       "\n",
       "    .dataframe tbody tr th {\n",
       "        vertical-align: top;\n",
       "    }\n",
       "\n",
       "    .dataframe thead th {\n",
       "        text-align: right;\n",
       "    }\n",
       "</style>\n",
       "<table border=\"1\" class=\"dataframe\">\n",
       "  <thead>\n",
       "    <tr style=\"text-align: right;\">\n",
       "      <th></th>\n",
       "      <th>well_coordinate</th>\n",
       "      <th>value</th>\n",
       "      <th>plate</th>\n",
       "      <th>plate_row</th>\n",
       "      <th>plate_column</th>\n",
       "      <th>control</th>\n",
       "      <th>measurement</th>\n",
       "      <th>compound</th>\n",
       "    </tr>\n",
       "  </thead>\n",
       "  <tbody>\n",
       "    <tr>\n",
       "      <th>0</th>\n",
       "      <td>N19</td>\n",
       "      <td>101570.0</td>\n",
       "      <td>3_PM023_9</td>\n",
       "      <td>14</td>\n",
       "      <td>19</td>\n",
       "      <td>C</td>\n",
       "      <td>Label1</td>\n",
       "      <td>Palmitoylethanolamide</td>\n",
       "    </tr>\n",
       "    <tr>\n",
       "      <th>1</th>\n",
       "      <td>A10</td>\n",
       "      <td>82268.0</td>\n",
       "      <td>3_PM023_9</td>\n",
       "      <td>1</td>\n",
       "      <td>10</td>\n",
       "      <td>C</td>\n",
       "      <td>Label1</td>\n",
       "      <td>Fisetin</td>\n",
       "    </tr>\n",
       "    <tr>\n",
       "      <th>2</th>\n",
       "      <td>A11</td>\n",
       "      <td>43843.0</td>\n",
       "      <td>3_PM023_9</td>\n",
       "      <td>1</td>\n",
       "      <td>11</td>\n",
       "      <td>C</td>\n",
       "      <td>Label1</td>\n",
       "      <td>SNS-314 Mesylate</td>\n",
       "    </tr>\n",
       "    <tr>\n",
       "      <th>3</th>\n",
       "      <td>A12</td>\n",
       "      <td>77140.0</td>\n",
       "      <td>3_PM023_9</td>\n",
       "      <td>1</td>\n",
       "      <td>12</td>\n",
       "      <td>C</td>\n",
       "      <td>Label1</td>\n",
       "      <td>Indole-3-carbinol</td>\n",
       "    </tr>\n",
       "    <tr>\n",
       "      <th>4</th>\n",
       "      <td>A13</td>\n",
       "      <td>30785.0</td>\n",
       "      <td>3_PM023_9</td>\n",
       "      <td>1</td>\n",
       "      <td>13</td>\n",
       "      <td>C</td>\n",
       "      <td>Label1</td>\n",
       "      <td>BIIB021</td>\n",
       "    </tr>\n",
       "    <tr>\n",
       "      <th>...</th>\n",
       "      <td>...</td>\n",
       "      <td>...</td>\n",
       "      <td>...</td>\n",
       "      <td>...</td>\n",
       "      <td>...</td>\n",
       "      <td>...</td>\n",
       "      <td>...</td>\n",
       "      <td>...</td>\n",
       "    </tr>\n",
       "    <tr>\n",
       "      <th>3067</th>\n",
       "      <td>O24</td>\n",
       "      <td>100710.0</td>\n",
       "      <td>3_PM023_4</td>\n",
       "      <td>15</td>\n",
       "      <td>24</td>\n",
       "      <td>C</td>\n",
       "      <td>Label1</td>\n",
       "      <td>None</td>\n",
       "    </tr>\n",
       "    <tr>\n",
       "      <th>3068</th>\n",
       "      <td>P1</td>\n",
       "      <td>94365.0</td>\n",
       "      <td>3_PM023_4</td>\n",
       "      <td>16</td>\n",
       "      <td>1</td>\n",
       "      <td>N</td>\n",
       "      <td>Label1</td>\n",
       "      <td>DMSO</td>\n",
       "    </tr>\n",
       "    <tr>\n",
       "      <th>3069</th>\n",
       "      <td>P2</td>\n",
       "      <td>109580.0</td>\n",
       "      <td>3_PM023_4</td>\n",
       "      <td>16</td>\n",
       "      <td>2</td>\n",
       "      <td>N</td>\n",
       "      <td>Label1</td>\n",
       "      <td>DMSO</td>\n",
       "    </tr>\n",
       "    <tr>\n",
       "      <th>3070</th>\n",
       "      <td>P23</td>\n",
       "      <td>94895.0</td>\n",
       "      <td>3_PM023_4</td>\n",
       "      <td>16</td>\n",
       "      <td>23</td>\n",
       "      <td>C</td>\n",
       "      <td>Label1</td>\n",
       "      <td>None</td>\n",
       "    </tr>\n",
       "    <tr>\n",
       "      <th>3071</th>\n",
       "      <td>P24</td>\n",
       "      <td>103120.0</td>\n",
       "      <td>3_PM023_4</td>\n",
       "      <td>16</td>\n",
       "      <td>24</td>\n",
       "      <td>C</td>\n",
       "      <td>Label1</td>\n",
       "      <td>None</td>\n",
       "    </tr>\n",
       "  </tbody>\n",
       "</table>\n",
       "<p>3072 rows × 8 columns</p>\n",
       "</div>"
      ],
      "text/plain": [
       "     well_coordinate     value      plate  plate_row  plate_column control  \\\n",
       "0                N19  101570.0  3_PM023_9         14            19       C   \n",
       "1                A10   82268.0  3_PM023_9          1            10       C   \n",
       "2                A11   43843.0  3_PM023_9          1            11       C   \n",
       "3                A12   77140.0  3_PM023_9          1            12       C   \n",
       "4                A13   30785.0  3_PM023_9          1            13       C   \n",
       "...              ...       ...        ...        ...           ...     ...   \n",
       "3067             O24  100710.0  3_PM023_4         15            24       C   \n",
       "3068              P1   94365.0  3_PM023_4         16             1       N   \n",
       "3069              P2  109580.0  3_PM023_4         16             2       N   \n",
       "3070             P23   94895.0  3_PM023_4         16            23       C   \n",
       "3071             P24  103120.0  3_PM023_4         16            24       C   \n",
       "\n",
       "     measurement               compound  \n",
       "0         Label1  Palmitoylethanolamide  \n",
       "1         Label1                Fisetin  \n",
       "2         Label1       SNS-314 Mesylate  \n",
       "3         Label1      Indole-3-carbinol  \n",
       "4         Label1                BIIB021  \n",
       "...          ...                    ...  \n",
       "3067      Label1                   None  \n",
       "3068      Label1                   DMSO  \n",
       "3069      Label1                   DMSO  \n",
       "3070      Label1                   None  \n",
       "3071      Label1                   None  \n",
       "\n",
       "[3072 rows x 8 columns]"
      ]
     },
     "execution_count": 3,
     "metadata": {},
     "output_type": "execute_result"
    }
   ],
   "source": [
    "raw_data\n"
   ]
  },
  {
   "cell_type": "code",
   "execution_count": 3,
   "id": "79a10604",
   "metadata": {
    "kernel": "SoS"
   },
   "outputs": [],
   "source": [
    "z_prime = ldm.calculate_z_prime(raw_data)\n",
    "z_prime_log = ldm.calculate_z_prime(raw_data, log_value=True)"
   ]
  },
  {
   "cell_type": "code",
   "execution_count": 4,
   "id": "501111d5",
   "metadata": {
    "kernel": "SoS"
   },
   "outputs": [
    {
     "data": {
      "text/html": [
       "<div>\n",
       "<style scoped>\n",
       "    .dataframe tbody tr th:only-of-type {\n",
       "        vertical-align: middle;\n",
       "    }\n",
       "\n",
       "    .dataframe tbody tr th {\n",
       "        vertical-align: top;\n",
       "    }\n",
       "\n",
       "    .dataframe thead th {\n",
       "        text-align: right;\n",
       "    }\n",
       "</style>\n",
       "<table border=\"1\" class=\"dataframe\">\n",
       "  <thead>\n",
       "    <tr style=\"text-align: right;\">\n",
       "      <th></th>\n",
       "      <th>plate</th>\n",
       "      <th>z_prime</th>\n",
       "    </tr>\n",
       "  </thead>\n",
       "  <tbody>\n",
       "    <tr>\n",
       "      <th>0</th>\n",
       "      <td>3_PM023_1</td>\n",
       "      <td>0.509263</td>\n",
       "    </tr>\n",
       "    <tr>\n",
       "      <th>1</th>\n",
       "      <td>3_PM023_2</td>\n",
       "      <td>0.713391</td>\n",
       "    </tr>\n",
       "    <tr>\n",
       "      <th>2</th>\n",
       "      <td>3_PM023_3</td>\n",
       "      <td>0.649004</td>\n",
       "    </tr>\n",
       "    <tr>\n",
       "      <th>3</th>\n",
       "      <td>3_PM023_4</td>\n",
       "      <td>0.615989</td>\n",
       "    </tr>\n",
       "    <tr>\n",
       "      <th>4</th>\n",
       "      <td>3_PM023_5</td>\n",
       "      <td>-2.023725</td>\n",
       "    </tr>\n",
       "    <tr>\n",
       "      <th>5</th>\n",
       "      <td>3_PM023_7</td>\n",
       "      <td>0.696663</td>\n",
       "    </tr>\n",
       "    <tr>\n",
       "      <th>6</th>\n",
       "      <td>3_PM023_8</td>\n",
       "      <td>0.704612</td>\n",
       "    </tr>\n",
       "    <tr>\n",
       "      <th>7</th>\n",
       "      <td>3_PM023_9</td>\n",
       "      <td>0.582342</td>\n",
       "    </tr>\n",
       "  </tbody>\n",
       "</table>\n",
       "</div>"
      ],
      "text/plain": [
       "       plate   z_prime\n",
       "0  3_PM023_1  0.509263\n",
       "1  3_PM023_2  0.713391\n",
       "2  3_PM023_3  0.649004\n",
       "3  3_PM023_4  0.615989\n",
       "4  3_PM023_5 -2.023725\n",
       "5  3_PM023_7  0.696663\n",
       "6  3_PM023_8  0.704612\n",
       "7  3_PM023_9  0.582342"
      ]
     },
     "execution_count": 4,
     "metadata": {},
     "output_type": "execute_result"
    }
   ],
   "source": [
    "z_prime"
   ]
  },
  {
   "cell_type": "code",
   "execution_count": 5,
   "id": "75d339e0-6214-4c45-b982-a3f6e6a13364",
   "metadata": {},
   "outputs": [
    {
     "data": {
      "text/plain": [
       "In addition: Warning message:\n",
       "In (function (package, help, pos = 2, lib.loc = NULL, character.only = FALSE,  :\n",
       "  library ‘/usr/lib/R/site-library’ contains no packages\n"
      ]
     },
     "metadata": {},
     "output_type": "display_data"
    }
   ],
   "source": [
    "%%R -i z_prime\n",
    "# if you want to save something as a file, please save it in the /data/notebooks/ directory\n",
    "# after that you can download it from the ui\n",
    "write.csv(z_prime, \"/data/notebooks/z.prime.csv\", row.names = FALSE)"
   ]
  },
  {
   "cell_type": "code",
   "execution_count": 6,
   "id": "0563e71e",
   "metadata": {
    "kernel": "R"
   },
   "outputs": [
    {
     "data": {
      "text/plain": [
       "\n",
       "Attaching package: ‘dplyr’\n",
       "\n",
       "The following objects are masked from ‘package:stats’:\n",
       "\n",
       "    filter, lag\n",
       "\n",
       "The following objects are masked from ‘package:base’:\n",
       "\n",
       "    intersect, setdiff, setequal, union\n",
       "\n",
       "Loading required package: carData\n",
       "\n",
       "Attaching package: ‘car’\n",
       "\n",
       "The following object is masked from ‘package:dplyr’:\n",
       "\n",
       "    recode\n",
       "\n",
       "The following object is masked from ‘package:lawstat’:\n",
       "\n",
       "    levene.test\n",
       "\n"
      ]
     },
     "metadata": {},
     "output_type": "display_data"
    }
   ],
   "source": [
    "%%R\n",
    "library(RColorBrewer)\n",
    "library(lawstat)\n",
    "library(ggplot2)\n",
    "library(dplyr)\n",
    "library(car)\n",
    "library(ggpubr)"
   ]
  },
  {
   "cell_type": "code",
   "execution_count": 7,
   "id": "4180b1f8",
   "metadata": {
    "kernel": "R"
   },
   "outputs": [],
   "source": [
    "%%R\n",
    "type.pal = brewer.pal(9,\"Set1\")\n",
    "type.pal = c(type.pal[2:1], \"black\", type.pal[3:9], brewer.pal(8,\"Dark2\"))\n",
    "\n",
    "num_to_letter = function(number, base = 26, suffix = \"\") {\n",
    "   number1 = number - 1\n",
    "   last_digit = number1 %% base\n",
    "   rest = number1 %/% base\n",
    "   suffix = paste0(LETTERS[last_digit + 1], suffix)\n",
    "   if (rest > 0) Recall(rest, base, suffix) else suffix\n",
    "}\n",
    "\n",
    "\n",
    "create_heatmap_plate_data = function(data, plate_barcode) {\n",
    "  plate = data %>%  \n",
    "    mutate(row = sapply(raw_data$plate_row, num_to_letter), col = raw_data$plate_column) %>% \n",
    "    filter(plate == plate_barcode) %>% \n",
    "    select(row, col, value, plate)\n",
    "      return(plate)\n",
    "}\n",
    "\n",
    "\n",
    "create_heatmap_panel = function(raw_data) {\n",
    "    unique_plates = unique(raw_data$plate)\n",
    "    plate_data_list = lapply(unique_plates, function(plate_barcode) {\n",
    "      create_heatmap_plate_data(raw_data, plate_barcode)\n",
    "    })\n",
    "    all_plate_data = do.call(rbind, plate_data_list)\n",
    "    heatmap_panel = ggplot(all_plate_data, aes(x = col, y = row, fill = value)) +\n",
    "      geom_tile() +\n",
    "      scale_fill_gradient(low = \"white\", high = \"red\") +\n",
    "      theme_minimal() +\n",
    "      facet_wrap(~plate, ncol = 5) \n",
    "    return(heatmap_panel)\n",
    "}\n",
    "\n",
    "create_histogram_plot <- function(data, x_var, fill_range, title, x_label=\"\") {\n",
    "      p = ggplot(data, aes(x = !!rlang::sym(x_var))) +\n",
    "        geom_histogram(aes(fill = after_stat(count), col= after_stat(count)), alpha = .4) +\n",
    "        scale_fill_gradient(\"Count\", low = fill_range[1], high = fill_range[2]) +\n",
    "        scale_color_gradient(\"Count\", low = fill_range[1], high = fill_range[2]) +\n",
    "        ggtitle(title) +\n",
    "        labs(x = x_label, y = \"Count\") +\n",
    "        theme_bw() +\n",
    "        theme(plot.title = element_text(hjust = 0.5)) \n",
    "        return(p)\n",
    "}\n",
    "\n",
    "create_controls_plot = function(data, x_var, y_var, group_var, color_var, title=\"\", y_label=\"\") {\n",
    "    \n",
    "    p = ggplot(data, aes(x = !!rlang::sym(x_var),\n",
    "                         y = !!rlang::sym(y_var),\n",
    "                         group = !!rlang::sym(group_var), \n",
    "                         color = !!rlang::sym(color_var))) +\n",
    "                      geom_jitter(width=0.2) + \n",
    "                      ylab(y_label) + \n",
    "                      xlab(\"\") +\n",
    "                      scale_color_manual(name=\"\", values = type.pal, drop=F) +\n",
    "                      guides(color = guide_legend(ncol=1, byrow = T)) +\n",
    "                      theme(strip.text = element_text(size=10),\n",
    "                            axis.text.x = element_text(angle = 90, hjust = 1, vjust = 0.5, size=rel(0.99)),\n",
    "                            legend.position = \"right\", legend.title=element_text(size=rel(0.8)),\n",
    "                            legend.text = element_text(size=rel(0.8)))\n",
    "        \n",
    "        \n",
    "    return(p)\n",
    "}\n",
    "\n",
    "create_z_prime_plot = function(data, x_var, y_var) {\n",
    "      data[, x_var] = as.factor(data[, x_var])  \n",
    "      cols = brewer.pal(9,\"Set1\")[c(1,6,3)]\n",
    "\n",
    "      p = ggplot(data, aes(x=!!rlang::sym(x_var), y=!!rlang::sym(y_var))) + ylab(\"Z'\") + xlab(\"\") +\n",
    "      scale_y_continuous(limits=c(-0.5,1), expand = c(0,0))+\n",
    "      geom_hline(yintercept=c(0,0.5)) +\n",
    "      geom_rect(xmin=0, xmax=length(levels(data$plate))+1, ymin=-Inf, ymax=0, fill=cols[1], alpha=0.5) + \n",
    "      geom_rect(xmin=0, xmax=length(levels(data$plate))+1, ymin=0, ymax=0.5, fill=cols[2], alpha=0.5) + \n",
    "      geom_rect(xmin=0, xmax=length(levels(data$plate))+1, ymin=0.5, ymax=1, fill=cols[3], alpha=0.5) + \n",
    "      geom_point() +\n",
    "      ggtitle(\"Z'-factor\")+\n",
    "      theme(axis.text.x = element_text(angle = 45, hjust = 1, vjust = 1), \n",
    "            strip.text = element_text(size=10),\n",
    "            plot.title = element_text(hjust = 0.5))\n",
    "\n",
    "        return(p)\n",
    "}\n",
    "\n",
    "create_plate_control_bar_plot = function(data, x_var, y_var, fill_var, sd_var, x_label='') {\n",
    "    \n",
    "     p = ggplot(data, aes(x=!!rlang::sym(x_var), y=!!rlang::sym(y_var), fill=!!rlang::sym(fill_var))) +\n",
    "      geom_bar(position=position_dodge(), stat=\"identity\",\n",
    "                 #colour=\"black\", # Use black outlines,\n",
    "                 size=.3) +\n",
    "        geom_errorbar(aes(ymin=!!rlang::sym(y_var)-!!rlang::sym(sd_var), ymax=!!rlang::sym(y_var)+!!rlang::sym(sd_var)),\n",
    "                      linewidth=.3,    # Thinner lines\n",
    "                      width=.2,\n",
    "                      position=position_dodge(.9)) +\n",
    "        scale_fill_manual(values=type.pal, drop=F) +\n",
    "        xlab(x_label) +\n",
    "        ylab(\"Normalized Values\") +\n",
    "        ggtitle(\"\") +\n",
    "        theme_bw() +\n",
    "        theme(axis.text.x = element_text(angle = 90, hjust = 1,vjust = 0.5)) +\n",
    "        facet_wrap(~plate, ncol=10, scales=\"free\")\n",
    "                      \n",
    "      return(p)\n",
    "                      }\n",
    "\n"
   ]
  },
  {
   "cell_type": "code",
   "execution_count": 8,
   "id": "971a1fee",
   "metadata": {
    "kernel": "R"
   },
   "outputs": [],
   "source": [
    "%%R\n",
    "options(repr.plot.width=15, repr.plot.height=8)"
   ]
  },
  {
   "cell_type": "markdown",
   "id": "942e8db9",
   "metadata": {
    "kernel": "R"
   },
   "source": [
    "# Plate Heatmap\n",
    "\n",
    "Plate heatmap of all raw luminescence values in a colour scale from green (low viability) to red (high viability) (figure 1)."
   ]
  },
  {
   "cell_type": "code",
   "execution_count": 9,
   "id": "77fb393b",
   "metadata": {
    "kernel": "R"
   },
   "outputs": [
    {
     "data": {
      "image/png": "[encoded data removed]",
      "text/plain": [
       "<IPython.core.display.Image object>"
      ]
     },
     "metadata": {},
     "output_type": "display_data"
    }
   ],
   "source": [
    "%%R -i raw_data\n",
    "create_heatmap_panel(raw_data)"
   ]
  },
  {
   "cell_type": "markdown",
   "id": "bbbafc92",
   "metadata": {
    "kernel": "R"
   },
   "source": [
    "# Data Distribution\n",
    "\n",
    "Histograms of raw- and NPI-normalized data for each plate (figure 2).\n"
   ]
  },
  {
   "cell_type": "code",
   "execution_count": 24,
   "id": "b8e5a5d1",
   "metadata": {
    "kernel": "R"
   },
   "outputs": [
    {
     "name": "stdout",
     "output_type": "stream",
     "text": [
      "`stat_bin()` using `bins = 30`. Pick better value with `binwidth`.\n",
      "`stat_bin()` using `bins = 30`. Pick better value with `binwidth`.\n",
      "`stat_bin()` using `bins = 30`. Pick better value with `binwidth`.\n"
     ]
    },
    {
     "data": {
      "image/png": "[encoded data removed]",
      "text/plain": [
       "<IPython.core.display.Image object>"
      ]
     },
     "metadata": {},
     "output_type": "display_data"
    }
   ],
   "source": [
    "%%R -i norm_data\n",
    "hist_raw = create_histogram_plot(data = norm_data, \"value\",  c(\"green\", \"red\"),\"Raw data\", \"log10(Measured value)\")\n",
    "hist_raw = hist_raw + facet_wrap(~plate, ncol=8, scales=\"free\")\n",
    "hist_norm = create_histogram_plot(data = norm_data,\"norm\", c(\"green\", \"red\"), \"Normalized data\", \"Normalized value\")\n",
    "hist_norm = hist_norm + facet_wrap(~plate, ncol=8, scales=\"free\")\n",
    "\n",
    "combined_hist = ggarrange(hist_raw, hist_norm, ncol = 1, labels = \"AUTO\", common.legend = T, legend = \"right\")\n",
    "combined_hist"
   ]
  },
  {
   "cell_type": "markdown",
   "id": "c259c9f2",
   "metadata": {
    "kernel": "R"
   },
   "source": [
    "# Controls\n",
    "Controlplot before- and after robust normalization (median and MAD) (figure 3).\n"
   ]
  },
  {
   "cell_type": "code",
   "execution_count": 11,
   "id": "26c09bab",
   "metadata": {
    "kernel": "R"
   },
   "outputs": [
    {
     "data": {
      "image/png": "[encoded data removed]",
      "text/plain": [
       "<IPython.core.display.Image object>"
      ]
     },
     "metadata": {},
     "output_type": "display_data"
    }
   ],
   "source": [
    "%%R -i norm_data\n",
    "condat = droplevels(subset(norm_data, norm_data$control != 'C' & norm_data$control != 'empty'))\n",
    "controls_raw = create_controls_plot(condat, 'plate', 'value', 'control', 'control', \"\", \"Measured Value\")\n",
    "controls_norm = create_controls_plot(condat, 'plate', 'norm', 'control', 'control', \"\", \"Normalized Value\")\n",
    "\n",
    "combined_controls = ggarrange(controls_raw, controls_norm, ncol = 1, labels = \"AUTO\", common.legend = T, legend = \"right\")\n",
    "combined_controls"
   ]
  },
  {
   "cell_type": "markdown",
   "id": "04231ee9",
   "metadata": {
    "kernel": "R"
   },
   "source": [
    "# Z-factor\n",
    "The Z-prime or Z-factor is a value that reflects how well the negative and positive controls are separated, and is a measure of statistical effect size. For single-point high-throughput screens, a Z'>0.5 indicates a good quality assay. The Z-primes are calculated using median/MAD (robust statistics) to have an increased tolerance for potential outliers. With highly complex biological models and complex assay readouts or when a strong control condition is not known, this value may be too stringent. In general, organoid-based assays often result in a Z'>0.2. For more information on the Z': https://en.wikipedia.org/wiki/Z-factor (figure 4).\n"
   ]
  },
  {
   "cell_type": "code",
   "execution_count": 12,
   "id": "ea9e75da",
   "metadata": {
    "kernel": "R"
   },
   "outputs": [
    {
     "name": "stderr",
     "output_type": "stream",
     "text": [
      "R[write to console]: In addition: \n",
      "R[write to console]: Warning message:\n",
      "\n",
      "R[write to console]: Removed 2 rows containing missing values (`geom_point()`). \n",
      "\n"
     ]
    },
    {
     "data": {
      "image/png": "[encoded data removed]",
      "text/plain": [
       "<IPython.core.display.Image object>"
      ]
     },
     "metadata": {},
     "output_type": "display_data"
    }
   ],
   "source": [
    "%%R -i z_prime\n",
    "z_plot = create_z_prime_plot(z_prime, 'plate', 'z_prime')\n",
    "z_plot"
   ]
  },
  {
   "cell_type": "markdown",
   "id": "f8ed9f5a",
   "metadata": {
    "kernel": "R"
   },
   "source": [
    "# Mean Data\n",
    "Bar charts of raw- and NPI normalized data per control condition (figure 5). \n"
   ]
  },
  {
   "cell_type": "code",
   "execution_count": 13,
   "id": "6f4597e4",
   "metadata": {
    "kernel": "R"
   },
   "outputs": [
    {
     "data": {
      "text/plain": [
       "In addition: Warning message:\n",
       "Using `size` aesthetic for lines was deprecated in ggplot2 3.4.0.\n",
       "ℹ Please use `linewidth` instead.\n",
       "This warning is displayed once every 8 hours.\n",
       "Call `lifecycle::last_lifecycle_warnings()` to see where this warning was\n",
       "generated. \n"
      ]
     },
     "metadata": {},
     "output_type": "display_data"
    },
    {
     "data": {
      "image/png": "[encoded data removed]",
      "text/plain": [
       "<IPython.core.display.Image object>"
      ]
     },
     "metadata": {},
     "output_type": "display_data"
    }
   ],
   "source": [
    "%%R -i norm_data\n",
    "condat = norm_data %>% filter(control != 'empty') %>%\n",
    "    mutate(X.Axis = paste(plate, control, sep = \"_\")) \n",
    "\n",
    "mean_sd =  condat %>% \n",
    "    group_by(X.Axis) %>% \n",
    "    summarize(value_mean = mean(value), value_sd=sd(value), norm_mean=mean(norm), norm_sd=sd(norm))\n",
    "\n",
    "res_df = left_join(condat, mean_sd, by=\"X.Axis\")\n",
    "\n",
    "\n",
    "plate_barplot_raw = create_plate_control_bar_plot(res_df, 'X.Axis', 'value_mean', 'control', 'value_sd', 'Measured Value')\n",
    "plate_barplot_norm = create_plate_control_bar_plot(res_df, 'plate', 'norm_mean', 'control', 'norm_sd', 'Normalized Value')\n",
    "\n",
    "plate_barplot_raw\n",
    "plate_barplot_norm\n",
    "\n"
   ]
  },
  {
   "cell_type": "code",
   "execution_count": null,
   "id": "582c6dae",
   "metadata": {
    "kernel": "R"
   },
   "outputs": [],
   "source": [
    "# https://stackoverflow.com/questions/49907455/hide-code-when-exporting-jupyter-notebook-to-html"
   ]
  }
 ],
 "metadata": {
  "hide_input": false,
  "kernelspec": {
   "display_name": "Python 3 (ipykernel)",
   "language": "python",
   "name": "python3"
  },
  "language_info": {
   "codemirror_mode": {
    "name": "ipython",
    "version": 3
   },
   "file_extension": ".py",
   "mimetype": "text/x-python",
   "name": "python",
   "nbconvert_exporter": "python",
   "pygments_lexer": "ipython3",
   "version": "3.11.9"
  },
  "sos": {
   "kernels": [
    [
     "Bash",
     "bash",
     "Bash",
     "#E6EEFF",
     "shell"
    ],
    [
     "R",
     "ir",
     "R",
     "#DCDCDA",
     "r"
    ],
    [
     "SoS",
     "sos",
     "",
     "",
     "sos"
    ]
   ],
   "panel": {
    "displayed": true,
    "height": 0
   },
   "version": "0.24.1"
  },
  "varInspector": {
   "cols": {
    "lenName": 16,
    "lenType": 16,
    "lenVar": 40
   },
   "kernels_config": {
    "python": {
     "delete_cmd_postfix": "",
     "delete_cmd_prefix": "del ",
     "library": "var_list.py",
     "varRefreshCmd": "print(var_dic_list())"
    },
    "r": {
     "delete_cmd_postfix": ") ",
     "delete_cmd_prefix": "rm(",
     "library": "var_list.r",
     "varRefreshCmd": "cat(var_dic_list()) "
    }
   },
   "types_to_exclude": [
    "module",
    "function",
    "builtin_function_or_method",
    "instance",
    "_Feature"
   ],
   "window_display": false
  }
 },
 "nbformat": 4,
 "nbformat_minor": 5
}
